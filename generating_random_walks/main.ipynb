{
 "cells": [
  {
   "cell_type": "markdown",
   "metadata": {},
   "source": [
    "## Generating Random Walks"
   ]
  },
  {
   "cell_type": "code",
   "execution_count": 6,
   "metadata": {},
   "outputs": [],
   "source": [
    "import numpy as np\n",
    "import matplotlib.pyplot as plt\n",
    "import main as rw\n",
    "import matplotlib\n",
    "%matplotlib qt"
   ]
  },
  {
   "cell_type": "code",
   "execution_count": 7,
   "metadata": {},
   "outputs": [],
   "source": [
    "rw.plot2DScatter(10000, 10000, 1, 10)"
   ]
  },
  {
   "cell_type": "code",
   "execution_count": 17,
   "metadata": {},
   "outputs": [],
   "source": [
    "W = 10000\n",
    "N = [[1, 2], [3, 5]]\n",
    "\n",
    "WalksList = rw.CreateWalkers(W, 1)\n",
    "fig, ax = plt.subplots(2, 2)\n",
    "for n1 in range(len(N)):\n",
    "    for n2 in range(len(N[n1])):\n",
    "        steps = N[n1][n2]\n",
    "        end_points = rw.ListOfEndPoints(WalksList, steps)\n",
    "        ax[n1, n2].hist(end_points[:], bins=50, density=True, label=\"RandomWalks\")\n",
    "        a = 0.289\n",
    "        sigma = np.sqrt(steps) * a\n",
    "        x = np.linspace(-3*sigma, 3*sigma, W)\n",
    "        y = rw.gaussian(x, sigma)\n",
    "        ax[n1, n2].plot(x, y, label=\"Gaussian\")\n",
    "        ax[n1, n2].set_title(f\"{W} Walkers in {steps} steps\")\n",
    "plt.tight_layout()\n",
    "plt.show()"
   ]
  },
  {
   "cell_type": "code",
   "execution_count": null,
   "metadata": {},
   "outputs": [],
   "source": []
  }
 ],
 "metadata": {
  "kernelspec": {
   "display_name": ".venv",
   "language": "python",
   "name": "python3"
  },
  "language_info": {
   "codemirror_mode": {
    "name": "ipython",
    "version": 3
   },
   "file_extension": ".py",
   "mimetype": "text/x-python",
   "name": "python",
   "nbconvert_exporter": "python",
   "pygments_lexer": "ipython3",
   "version": "3.12.3"
  }
 },
 "nbformat": 4,
 "nbformat_minor": 2
}
