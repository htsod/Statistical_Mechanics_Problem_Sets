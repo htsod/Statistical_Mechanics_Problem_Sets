{
 "cells": [
  {
   "cell_type": "markdown",
   "metadata": {},
   "source": [
    "## Polymers Random Walks"
   ]
  },
  {
   "cell_type": "code",
   "execution_count": 5,
   "metadata": {},
   "outputs": [],
   "source": [
    "import numpy as np\n",
    "import main as rw\n",
    "import matplotlib.pyplot as plt\n",
    "\n",
    "%matplotlib qt"
   ]
  },
  {
   "cell_type": "code",
   "execution_count": 6,
   "metadata": {},
   "outputs": [],
   "source": [
    "grid_points = rw.grid(1000)\n",
    "\n",
    "steps, repeatition = 10, 1000\n",
    "rms_distance = []\n",
    "for s in range(1, steps):\n",
    "    r_square = []\n",
    "    for rep in range(repeatition):\n",
    "        last_position = grid_points.UpdateSteps(s)\n",
    "        if last_position is not None:\n",
    "            d = grid_points.MeasureDistance()\n",
    "            r_square.append(d**2)\n",
    "    rms_distance.append(np.sqrt(np.array(r_square).mean()))\n",
    "\n",
    "\n",
    "fig, ax = plt.subplots()\n",
    "\n",
    "ax.scatter(np.arange(1, steps), rms_distance, label=\"self-avoiding\")\n",
    "ax.plot(np.arange(1, steps), np.sqrt(np.arange(1, steps) - 1), label=\"R = $L^{1/2}$\")\n",
    "ax.plot(np.arange(1, steps), np.arange(1, steps)**(3/4) - 1, label=\"R = $L^{3/4}$\")\n",
    "\n",
    "ax.legend()\n",
    "ax.set_title(\"Exponent of self-avoiding random Walk\")\n",
    "ax.set_xlabel(\"Number of steps\")\n",
    "ax.set_ylabel(\"RMS distance\")\n",
    "\n",
    "# plt.savefig(\"./polymers_random_walks/graph.png\")\n",
    "plt.show()"
   ]
  },
  {
   "cell_type": "code",
   "execution_count": null,
   "metadata": {},
   "outputs": [],
   "source": []
  }
 ],
 "metadata": {
  "kernelspec": {
   "display_name": ".venv",
   "language": "python",
   "name": "python3"
  },
  "language_info": {
   "codemirror_mode": {
    "name": "ipython",
    "version": 3
   },
   "file_extension": ".py",
   "mimetype": "text/x-python",
   "name": "python",
   "nbconvert_exporter": "python",
   "pygments_lexer": "ipython3",
   "version": "3.12.3"
  }
 },
 "nbformat": 4,
 "nbformat_minor": 2
}
