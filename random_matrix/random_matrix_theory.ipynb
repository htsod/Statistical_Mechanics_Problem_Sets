{
 "cells": [
  {
   "cell_type": "code",
   "execution_count": null,
   "metadata": {},
   "outputs": [],
   "source": [
    "import numpy.linalg as la\n",
    "from numpy.random import default_rng\n",
    "import numpy.random as rd\n",
    "import numpy as np\n",
    "import matplotlib.pyplot as plt"
   ]
  },
  {
   "cell_type": "markdown",
   "metadata": {},
   "source": [
    "1. __Generate an N x N matrix whose elements are independent random numbers with Gaussian distributions of mean zero and standard deviation $\\sigma$ = 1__\n",
    "\n",
    "\n",
    "2. __Add each matrix to its transpose to symmetrize it.__"
   ]
  },
  {
   "cell_type": "code",
   "execution_count": null,
   "metadata": {},
   "outputs": [],
   "source": [
    "# def rad_mat(mu, sigma, n1, n2):\n",
    "#     gauss_var = rd.normal(mu, sigma, n1*n2)\n",
    "#     emp_array = np.zeros((n1, n2))\n",
    "#     indexer = 0\n",
    "#     init_index = 0\n",
    "#     for i in range(n2):\n",
    "#         init_index = indexer\n",
    "#         indexer += n1\n",
    "#         emp_array[i] = gauss_var[init_index:indexer]\n",
    "#     return emp_array\n",
    "\n",
    "def rad_mat(mu, sigma, n1, n2):\n",
    "    return rd.normal(mu, sigma, size=(n1, n2))\n",
    "\n",
    "def mean_split(l):\n",
    "    l.sort()\n",
    "    vals = []\n",
    "    for i in range(int(len(l)/2)):\n",
    "        val = l[i+1] - l[i]\n",
    "        vals.append(val)\n",
    "    return vals"
   ]
  },
  {
   "cell_type": "markdown",
   "metadata": {},
   "source": [
    "(a) _Generate an ensemble with M = 1000 or so Gaussian orthogonal ensemble (GOE) matrices of size N = 2, 4 and 10. Find the eigenvalues $\\lambda_{n}$ of each matrix, sorted in increasing order. Find the difference between neighboring eigenvalues $\\lambda_{n+1} - \\lambda_{n}$, for n say, equal to N/2. Plot a historgram of these eigenvalue splittings divided by the mean splitting, with bin size small enough to see some of the fluctuations._"
   ]
  },
  {
   "cell_type": "code",
   "execution_count": null,
   "metadata": {},
   "outputs": [],
   "source": [
    "def cum_m_split(M, N, mu, sig):\n",
    "    matrix_array = []\n",
    "    eigenval_array = []\n",
    "    m_split = []\n",
    "    for i in range(M):\n",
    "        mat = rad_mat(mu, sig, N, N)\n",
    "        mat = mat + mat.T\n",
    "        matrix_array.append(mat)\n",
    "        eigenval = la.eigvals(mat)\n",
    "        eigenval_array.append(eigenval)\n",
    "        split = mean_split(eigenval)\n",
    "        for i in split:\n",
    "            m_split.append(i)\n",
    "    m_split = np.array(m_split)\n",
    "    m_split = m_split / m_split.mean()\n",
    "    m_split.sort()\n",
    "    return m_split, eigenval_array, matrix_array\n",
    "\n",
    "\n",
    "mu = 0\n",
    "sigma = 1"
   ]
  },
  {
   "cell_type": "code",
   "execution_count": null,
   "metadata": {},
   "outputs": [],
   "source": [
    "samples = 20000\n",
    "mat_size = 2\n",
    "m_split, _, _ = cum_m_split(samples, mat_size, mu, sigma)\n",
    "\n",
    "fig, ax = plt.subplots()\n",
    "ax.hist(m_split, 100, density=True)\n",
    "ax.set_title(f\"Mean Splitting Distribution (N={mat_size}, M={samples})\")\n",
    "ax.set_xlabel(\"s = $\\lambda$\")\n",
    "ax.set_ylabel(\"Counts\")"
   ]
  },
  {
   "cell_type": "code",
   "execution_count": null,
   "metadata": {},
   "outputs": [],
   "source": [
    "samples = 10000\n",
    "mat_size = 4\n",
    "m_split, _, _ = cum_m_split(samples, mat_size, mu, sigma)\n",
    "\n",
    "fig, ax = plt.subplots()\n",
    "ax.hist(m_split, 100, density=True)\n",
    "ax.set_title(f\"Mean Splitting Distribution (N={mat_size}, M={samples})\")\n",
    "ax.set_xlabel(\"s = $\\lambda$\")\n",
    "ax.set_ylabel(\"Counts\")"
   ]
  },
  {
   "cell_type": "code",
   "execution_count": null,
   "metadata": {},
   "outputs": [],
   "source": [
    "samples = 5000\n",
    "mat_size = 10\n",
    "m_split, _, _ = cum_m_split(samples, mat_size, mu, sigma)\n",
    "\n",
    "fig, ax = plt.subplots()\n",
    "ax.hist(m_split, 100, density=True)\n",
    "ax.set_title(f\"Mean Splitting Distribution (N={mat_size}, M={samples})\")\n",
    "ax.set_xlabel(\"s = $\\lambda$\")\n",
    "ax.set_ylabel(\"Counts\")"
   ]
  },
  {
   "cell_type": "code",
   "execution_count": null,
   "metadata": {},
   "outputs": [],
   "source": [
    "samples = 5000\n",
    "mat_size = 20\n",
    "m_split, _, _ = cum_m_split(samples, mat_size, mu, sigma)\n",
    "\n",
    "fig, ax = plt.subplots()\n",
    "ax.hist(m_split, 100, density=True)\n",
    "ax.set_title(f\"Mean Splitting Distribution (N={mat_size}, M={samples})\")\n",
    "ax.set_xlabel(\"s = $\\lambda$\")\n",
    "ax.set_ylabel(\"Counts\")"
   ]
  },
  {
   "cell_type": "code",
   "execution_count": null,
   "metadata": {},
   "outputs": [],
   "source": []
  },
  {
   "cell_type": "markdown",
   "metadata": {},
   "source": [
    "(c) _Calculate analytically the standard deviation of a diagonal and an off-diagonal element of the GOE ensemble (made by symmetrizing Gaussian random matrices with $\\sigma = 1$)_"
   ]
  },
  {
   "cell_type": "code",
   "execution_count": null,
   "metadata": {},
   "outputs": [],
   "source": [
    "def cum_ele(matrix_array):\n",
    "    diag = []\n",
    "    off_diag = []\n",
    "\n",
    "    for i in range(len(matrix_array)):\n",
    "        for j in range(len(matrix_array[i])):\n",
    "            diag.append(matrix_array[i][j][j])\n",
    "            for k in range(len(matrix_array[i])):\n",
    "                if j != k:\n",
    "                    off_diag.append(matrix_array[i][j][k])\n",
    "\n",
    "    return diag, off_diag"
   ]
  },
  {
   "cell_type": "code",
   "execution_count": null,
   "metadata": {},
   "outputs": [],
   "source": [
    "_, _, matrix_array = cum_m_split(1000, 2, 0, 1)\n",
    "diag, off_diag = cum_ele(matrix_array)\n",
    "print(f\"The standard deviation of the diagonal element is {np.array(diag).std()}\\n\"\n",
    "      f\"The standard deviation of the off-diagonal element is {np.array(off_diag).std()}\")"
   ]
  },
  {
   "cell_type": "markdown",
   "metadata": {},
   "source": [
    "(e) _Plot Wigner surmise along with N = 2, 4, 10_"
   ]
  },
  {
   "cell_type": "code",
   "execution_count": null,
   "metadata": {},
   "outputs": [],
   "source": [
    "def wig_sur(s):\n",
    "    return np.pi * s * np.exp(-np.pi * s**(2) / 4) / 2"
   ]
  },
  {
   "cell_type": "code",
   "execution_count": null,
   "metadata": {},
   "outputs": [],
   "source": [
    "samples = 20000\n",
    "mat_size = 2\n",
    "m_split, _, _ = cum_m_split(samples, mat_size, mu, sigma)\n",
    "\n",
    "s_vals = np.arange(min(m_split), max(m_split), 0.01)\n",
    "y_vals = wig_sur(s_vals)\n",
    "\n",
    "\n",
    "fig, ax = plt.subplots()\n",
    "ax.hist(m_split, 100, density=True)\n",
    "ax.set_title(f\"Mean Splitting Distribution (N={mat_size}, M={samples})\")\n",
    "ax.set_xlabel(\"s = $\\lambda$\")\n",
    "ax.set_ylabel(\"Counts\")\n",
    "ax.plot(s_vals, y_vals)\n"
   ]
  },
  {
   "cell_type": "code",
   "execution_count": null,
   "metadata": {},
   "outputs": [],
   "source": [
    "samples = 10000\n",
    "mat_size = 4\n",
    "m_split, _, _ = cum_m_split(samples, mat_size, mu, sigma)\n",
    "\n",
    "s_vals = np.arange(min(m_split), max(m_split), 0.01)\n",
    "y_vals = wig_sur(s_vals)\n",
    "\n",
    "\n",
    "fig, ax = plt.subplots()\n",
    "ax.hist(m_split, 100, density=True)\n",
    "ax.set_title(f\"Mean Splitting Distribution (N={mat_size}, M={samples})\")\n",
    "ax.set_xlabel(\"s = $\\lambda$\")\n",
    "ax.set_ylabel(\"Counts\")\n",
    "ax.plot(s_vals, y_vals)\n"
   ]
  },
  {
   "cell_type": "code",
   "execution_count": null,
   "metadata": {},
   "outputs": [],
   "source": [
    "samples = 5000\n",
    "mat_size = 10\n",
    "m_split, _, _ = cum_m_split(samples, mat_size, mu, sigma)\n",
    "\n",
    "s_vals = np.arange(min(m_split), max(m_split), 0.01)\n",
    "y_vals = wig_sur(s_vals)\n",
    "\n",
    "\n",
    "fig, ax = plt.subplots()\n",
    "ax.hist(m_split, 100, density=True)\n",
    "ax.set_title(f\"Mean Splitting Distribution (N={mat_size}, M={samples})\")\n",
    "ax.set_xlabel(\"s = $\\lambda$\")\n",
    "ax.set_ylabel(\"Counts\")\n",
    "ax.plot(s_vals, y_vals)\n"
   ]
  },
  {
   "cell_type": "markdown",
   "metadata": {},
   "source": [
    "(f) _Generate an ensemble with $M = 1000 \\pm 1$ symmetric matrices with size N = 2, 4 and 10. Plot the eigenvalue distributions as in part (a). Are they universal for N = 2, 4? Do they appear to be nearly universal for N = 10? Plot the Wigner surmise along with your histogram for N = 10._"
   ]
  },
  {
   "cell_type": "code",
   "execution_count": null,
   "metadata": {},
   "outputs": [],
   "source": [
    "def rad_mat(mu, sigma, n1, n2):\n",
    "    mat = np.zeros((n1, n2))\n",
    "    for i in range(n2):\n",
    "        for j in range(n1):\n",
    "            rad_int = rd.choice([1, -1])\n",
    "            mat[i][j] = rad_int\n",
    "    return mat"
   ]
  },
  {
   "cell_type": "code",
   "execution_count": null,
   "metadata": {},
   "outputs": [],
   "source": [
    "samples = 2000\n",
    "mat_size = 2\n",
    "m_split, _, _ = cum_m_split(samples, mat_size, mu, sigma)\n",
    "\n",
    "s_vals = np.arange(0, 3, 0.01)\n",
    "y_vals = wig_sur(s_vals)\n",
    "\n",
    "\n",
    "fig, ax = plt.subplots()\n",
    "ax.hist(m_split, 10, density=True)\n",
    "ax.set_title(f\"Mean Splitting Distribution (N={mat_size}, M={samples})\")\n",
    "ax.set_xlabel(\"s = $\\lambda$\")\n",
    "ax.set_ylabel(\"Counts\")\n",
    "ax.plot(s_vals, y_vals)\n"
   ]
  },
  {
   "cell_type": "code",
   "execution_count": null,
   "metadata": {},
   "outputs": [],
   "source": [
    "samples = 2000\n",
    "mat_size = 4\n",
    "m_split, _, _ = cum_m_split(samples, mat_size, mu, sigma)\n",
    "\n",
    "s_vals = np.arange(0, 3, 0.01)\n",
    "y_vals = wig_sur(s_vals)\n",
    "\n",
    "\n",
    "fig, ax = plt.subplots()\n",
    "ax.hist(m_split, 100, density=True)\n",
    "ax.plot(s_vals, y_vals)\n",
    "\n",
    "ax.set_title(f\"Mean Splitting Distribution (N={mat_size}, M={samples})\")\n",
    "ax.set_xlabel(\"s = $\\lambda$\")\n",
    "ax.set_ylabel(\"Counts\")\n",
    "\n"
   ]
  },
  {
   "cell_type": "code",
   "execution_count": null,
   "metadata": {},
   "outputs": [],
   "source": [
    "samples = 2000\n",
    "mat_size = 10\n",
    "m_split, _, _ = cum_m_split(samples, mat_size, mu, sigma)\n",
    "\n",
    "s_vals = np.arange(0, 3, 0.01)\n",
    "y_vals = wig_sur(s_vals)\n",
    "\n",
    "\n",
    "fig, ax = plt.subplots()\n",
    "ax.hist(m_split, 100, density=True)\n",
    "ax.plot(s_vals, y_vals)\n",
    "\n",
    "ax.set_title(f\"Mean Splitting Distribution (N={mat_size}, M={samples})\")\n",
    "ax.set_xlabel(\"s = $\\lambda$\")\n",
    "ax.set_ylabel(\"Counts\")\n",
    "\n"
   ]
  },
  {
   "cell_type": "code",
   "execution_count": null,
   "metadata": {},
   "outputs": [],
   "source": []
  }
 ],
 "metadata": {
  "kernelspec": {
   "display_name": "Python 3",
   "language": "python",
   "name": "python3"
  },
  "language_info": {
   "codemirror_mode": {
    "name": "ipython",
    "version": 3
   },
   "file_extension": ".py",
   "mimetype": "text/x-python",
   "name": "python",
   "nbconvert_exporter": "python",
   "pygments_lexer": "ipython3",
   "version": "3.10.12"
  }
 },
 "nbformat": 4,
 "nbformat_minor": 2
}
